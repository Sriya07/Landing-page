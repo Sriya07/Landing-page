{
  "nbformat": 4,
  "nbformat_minor": 0,
  "metadata": {
    "colab": {
      "provenance": [],
      "authorship_tag": "ABX9TyPo6EMoMnzewLyVmU4ag2NR",
      "include_colab_link": true
    },
    "kernelspec": {
      "name": "python3",
      "display_name": "Python 3"
    },
    "language_info": {
      "name": "python"
    }
  },
  "cells": [
    {
      "cell_type": "markdown",
      "metadata": {
        "id": "view-in-github",
        "colab_type": "text"
      },
      "source": [
        "<a href=\"https://colab.research.google.com/github/Sriya07/Landing-page/blob/main/Another_copy_of_sriya.ipynb\" target=\"_parent\"><img src=\"https://colab.research.google.com/assets/colab-badge.svg\" alt=\"Open In Colab\"/></a>"
      ]
    },
    {
      "cell_type": "code",
      "execution_count": null,
      "metadata": {
        "id": "B7qTO5VtV9nd"
      },
      "outputs": [],
      "source": [
        "\n",
        ""
      ]
    },
    {
      "cell_type": "code",
      "source": [
        "def ValidateEmail(TeatString): # return 1 if the rules are satisfied, 0_ if any invalidity is found\n",
        "  if '@' in TestString:\n",
        "    if TestString.startswith('@') or TestString.endswith('@'):\n",
        "      return 0\n",
        "    if TestString.count('@')>1: # quoted @ is permitted\n",
        "      first, second = TestString.split('@',1)\n",
        "      if first == '' or second == '':\n",
        "        return 0\n",
        "      if first[-1] == \"'\" and second[0] == \"'\":\n",
        "        status = 1\n",
        "      else:\n",
        "        return 0\n",
        "    else:\n",
        "      status = 1 # valid\n",
        "  else:\n",
        "        return 0 # @ is not present even once\n",
        "\n",
        "  test = '!#$%\\'*+-/=?^_{|}~.'\n",
        "  for c in test:\n",
        "    if TestString.startswith(C) or TestString.endswith(c):\n",
        "       return 0\n",
        "\n",
        "  digits ='0123456789'\n",
        "  for c in digits:\n",
        "    if TestString.startswith(c):\n",
        "      return 0\n",
        "  if len(TestString)>=254:\n",
        "    return 0\n",
        "\n",
        "  if ' ' in TestString: # quoted ' ' to be checked\n",
        "     first, second = TestString.split(' ',1)\n",
        "     if first == '' or second[0] == '':\n",
        "        return 0\n",
        "     if first [-1] == \"'\" and second[0] == \"'\":\n",
        "        status = 1\n",
        "     else:\n",
        "        return 0\n",
        "\n",
        "  local, domain = TestString.split('@')\n",
        "  Local_ststus = ValidateLocal(local)\n",
        "  Domain_ststus = ValidaeDomain(domain)\n",
        "  if Local_status == 1 and Domain_status == 1:\n",
        "    status = 1\n",
        "  else:\n",
        "    status = 0\n",
        "\n",
        "    return status"
      ],
      "metadata": {
        "id": "8bbuGBZ4rpzb"
      },
      "execution_count": 1,
      "outputs": []
    },
    {
      "cell_type": "code",
      "source": [
        "  def ValidateLocal(local):\n",
        "    if len(local)>64:\n",
        "      return 0\n",
        "    test = '!#$%\\'*+-/=?^_{|}~.'\n",
        "    if set(local).issubset(set('0123456789abcdefghijklmnopqrstuvwxyzABCDEFGHIJKLMNOPQRSTUVWXYZ')):\n",
        "    status = 1\n",
        "    if set(local).issubset(set(test)):\n",
        "      for c in test:\n",
        "       if local.startswith(c) or local.endswith(c):\n",
        "        return 0\n",
        "      for c in test:\n",
        "        if c in local:\n",
        "          first, second = local.split(c,1)\n",
        "          if first == '' or second =='':\n",
        "            return 0\n",
        "          if first[-1]==\"'\" and second[0]==\"'\":\n",
        "            status = 1\n",
        "          else:\n",
        "            return 0\n",
        "  else:\n",
        "    status = 0\n",
        "  return status"
      ],
      "metadata": {
        "id": "C6JWFulsTE3-"
      },
      "execution_count": 2,
      "outputs": []
    },
    {
      "cell_type": "code",
      "source": [
        "def ValidateDomain(domain):\n",
        "  if set(domain).issubset(set('0123456789abcdefghijklmnopqrstuvwxyzABCDEFGHIJKLMNOPQRSTUVWXYZ.-')):\n",
        "        status = 1\n",
        "  else:\n",
        "        status = 0\n",
        "\n",
        "  last_domain = domain.split('.')[-1]\n",
        "  if last_domain =='org' or last_domain == 'edu' or last_domain == 'com':\n",
        "    status = 1\n",
        "  else:\n",
        "    status = 0\n",
        "\n",
        "  if len(domain) <7:\n",
        "    return 0\n",
        "\n",
        "  if domain.startswith('-') or domain.endswith('-'):\n",
        "    return 0\n",
        "\n",
        "  return status\n",
        ""
      ],
      "metadata": {
        "id": "2FuFwLvQXjNL"
      },
      "execution_count": 3,
      "outputs": []
    },
    {
      "cell_type": "code",
      "source": [
        "def interactively():\n",
        "  email = input(\" Enter email id:\")\n",
        "  status = ValidateEmail(email)\n",
        "  if status == 1:\n",
        "    print(email,\"is VALID\\n\")\n",
        "  else:\n",
        "    print(email, \"is NOT VALID\\n\")\n",
        "\n",
        ""
      ],
      "metadata": {
        "id": "gkdM6rr2Z-E2"
      },
      "execution_count": 6,
      "outputs": []
    },
    {
      "cell_type": "code",
      "source": [
        "choice = 'y' # initialization\n",
        "while choice == 'y' or choice == 'Y':\n",
        "  interactively() # check for validity f one email id\n",
        "  choice = input(\"\\nDo you wish to continue : (Y/N)\")\n",
        "print(\"\\n***Interactive mode of validation is completed***\")\n"
      ],
      "metadata": {
        "id": "uFL8QJ76wtpX"
      },
      "execution_count": null,
      "outputs": []
    },
    {
      "cell_type": "code",
      "source": [
        "file_ptr = open('sriya-copy.txt','r')\n",
        "for line in file_ptr:\n",
        "  print(line)\n",
        "  status =ValidateEmail(line.strip())\n",
        "  if (status==1):\n",
        "    file_ptr.write('***VALID**--'+line)\n",
        "  else:\n",
        "    file_ptr.write('INVALID--'+line)"
      ],
      "metadata": {
        "id": "DLMEaY90wvXn"
      },
      "execution_count": null,
      "outputs": []
    }
  ]
}