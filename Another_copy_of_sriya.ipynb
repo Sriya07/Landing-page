{
  "nbformat": 4,
  "nbformat_minor": 0,
  "metadata": {
    "colab": {
      "provenance": [],
      "authorship_tag": "ABX9TyOdBaQnFMTEClbTxUoeSuCX",
      "include_colab_link": true
    },
    "kernelspec": {
      "name": "python3",
      "display_name": "Python 3"
    },
    "language_info": {
      "name": "python"
    }
  },
  "cells": [
    {
      "cell_type": "markdown",
      "metadata": {
        "id": "view-in-github",
        "colab_type": "text"
      },
      "source": [
        "<a href=\"https://colab.research.google.com/github/Sriya07/Landing-page/blob/main/Another_copy_of_sriya.ipynb\" target=\"_parent\"><img src=\"https://colab.research.google.com/assets/colab-badge.svg\" alt=\"Open In Colab\"/></a>"
      ]
    },
    {
      "cell_type": "code",
      "execution_count": null,
      "metadata": {
        "id": "B7qTO5VtV9nd"
      },
      "outputs": [],
      "source": [
        "\n",
        ""
      ]
    },
    {
      "cell_type": "code",
      "source": [
        "def ValidateEmail(TeatString): # return 1 if the rules are satisfied, 0_ if any invalidity is found\n",
        "  if '@' in TestString:\n",
        "    if TestString.startswith('@') or TestString.endswith('@'):\n",
        "      return 0\n",
        "    if TestString.count('@')>1: # quoted @ is permitted\n",
        "      first, second = TestString.split('@',1)\n",
        "      if first == '' or second == '':\n",
        "        return 0\n",
        "      if first[-1] == \"'\" and second[0] == \"'\":\n",
        "        status = 1\n",
        "      else:\n",
        "        return 0\n",
        "    else:\n",
        "      status = 1 # valid\n",
        "  else:\n",
        "        return 0 # @ is not present even once\n",
        "\n",
        "  test = '!#$%\\'*+-/=?^_{|}~.'\n",
        "  for c in test:\n",
        "    if TestString.startswith(C) or TestString.endswith(c):\n",
        "       return 0\n",
        "\n",
        "  digits ='0123456789'\n",
        "  for c in digits:\n",
        "    if TestString.startswith(c):\n",
        "      return 0\n",
        "  if len(TestString)>=254:\n",
        "    return 0\n",
        "\n",
        "  if ' ' in TestString: # quoted ' ' to be checked\n",
        "     first, second = TestString.split(' ',1)\n",
        "     if first == '' or second[0] == '':\n",
        "        return 0\n",
        "     if first [-1] == \"'\" and second[0] == \"'\":\n",
        "        status = 1\n",
        "     else:\n",
        "        return 0\n",
        "\n",
        "  local, domain = TestString.split('@')\n",
        "  Local_ststus = ValidateLocal(local)\n",
        "  Domain_ststus = ValidaeDomain(domain)\n",
        "  if Local_status == 1 and Domain_status == 1:\n",
        "    status = 1\n",
        "  else:\n",
        "    status = 0\n",
        "\n",
        "    return status"
      ],
      "metadata": {
        "id": "8bbuGBZ4rpzb"
      },
      "execution_count": 1,
      "outputs": []
    },
    {
      "cell_type": "code",
      "source": [
        "  def ValidateLocal(local):\n",
        "    if len(local)>64:\n",
        "      return 0\n",
        "    test = '!#$%\\'*+-/=?^_{|}~.'\n",
        "    if set(local).issubset(set('0123456789abcdefghijklmnopqrstuvwxyzABCDEFGHIJKLMNOPQRSTUVWXYZ')):\n",
        "    status = 1\n",
        "    if set(local).issubset(set(test)):\n",
        "      for c in test:\n",
        "       if local.startswith(c) or local.endswith(c):\n",
        "        return 0\n",
        "      for c in test:\n",
        "        if c in local:\n",
        "          first, second = local.split(c,1)\n",
        "          if first == '' or second =='':\n",
        "            return 0\n",
        "          if first[-1]==\"'\" and second[0]==\"'\":\n",
        "            status = 1\n",
        "          else:\n",
        "            return 0\n",
        "  else:\n",
        "    status = 0\n",
        "  return status"
      ],
      "metadata": {
        "id": "C6JWFulsTE3-"
      },
      "execution_count": 2,
      "outputs": []
    },
    {
      "cell_type": "code",
      "source": [
        "def ValidateDomain(domain):\n",
        "  if set(domain).issubset(set('0123456789abcdefghijklmnopqrstuvwxyzABCDEFGHIJKLMNOPQRSTUVWXYZ.-')):\n",
        "        status = 1\n",
        "  else:\n",
        "        status = 0\n",
        "\n",
        "  last_domain = domain.split('.')[-1]\n",
        "  if last_domain =='org' or last_domain == 'edu' or last_domain == 'com':\n",
        "    status = 1\n",
        "  else:\n",
        "    status = 0\n",
        "\n",
        "  if len(domain) <7:\n",
        "    return 0\n",
        "\n",
        "  if domain.startswith('-') or domain.endswith('-'):\n",
        "    return 0\n",
        "\n",
        "  return status\n",
        ""
      ],
      "metadata": {
        "id": "2FuFwLvQXjNL"
      },
      "execution_count": 3,
      "outputs": []
    },
    {
      "cell_type": "code",
      "source": [
        "def interactively():\n",
        "  email = input(\" Enter email id:\")\n",
        "  status = ValidateEmail(email)\n",
        "  if status == 1:\n",
        "    print(email,\"is VALID\\n\")\n",
        "  else:\n",
        "    print(email, \"is NOT VALID\\n\")\n",
        "\n",
        ""
      ],
      "metadata": {
        "id": "gkdM6rr2Z-E2"
      },
      "execution_count": 6,
      "outputs": []
    },
    {
      "cell_type": "code",
      "source": [
        " choice = 'y' # initialization\n",
        "while choice == 'y' or choice == 'Y':\n",
        "  interactively() # check for validity f one email id\n",
        "  choice = input(\"\\nDo you wish to continue : (Y/N)\")\n",
        "print(\"\\n***Interactive mode of validation is completed***\")\n",
        ""
      ],
      "metadata": {
        "colab": {
          "base_uri": "https://localhost:8080/",
          "height": 390
        },
        "id": "21nc15j7dHz2",
        "outputId": "19a24c19-23d3-427d-d46c-998e165d0dd9"
      },
      "execution_count": 14,
      "outputs": [
        {
          "output_type": "error",
          "ename": "KeyboardInterrupt",
          "evalue": "ignored",
          "traceback": [
            "\u001b[0;31m---------------------------------------------------------------------------\u001b[0m",
            "\u001b[0;31mKeyboardInterrupt\u001b[0m                         Traceback (most recent call last)",
            "\u001b[0;32m<ipython-input-14-ebcfdc7bb036>\u001b[0m in \u001b[0;36m<cell line: 2>\u001b[0;34m()\u001b[0m\n\u001b[1;32m      1\u001b[0m \u001b[0mchoice\u001b[0m \u001b[0;34m=\u001b[0m \u001b[0;34m'y'\u001b[0m \u001b[0;31m# initialization\u001b[0m\u001b[0;34m\u001b[0m\u001b[0;34m\u001b[0m\u001b[0m\n\u001b[1;32m      2\u001b[0m \u001b[0;32mwhile\u001b[0m \u001b[0mchoice\u001b[0m \u001b[0;34m==\u001b[0m \u001b[0;34m'y'\u001b[0m \u001b[0;32mor\u001b[0m \u001b[0mchoice\u001b[0m \u001b[0;34m==\u001b[0m \u001b[0;34m'Y'\u001b[0m\u001b[0;34m:\u001b[0m\u001b[0;34m\u001b[0m\u001b[0;34m\u001b[0m\u001b[0m\n\u001b[0;32m----> 3\u001b[0;31m  \u001b[0minteractively\u001b[0m\u001b[0;34m(\u001b[0m\u001b[0;34m)\u001b[0m \u001b[0;31m# check for validity f one email id\u001b[0m\u001b[0;34m\u001b[0m\u001b[0;34m\u001b[0m\u001b[0m\n\u001b[0m\u001b[1;32m      4\u001b[0m  \u001b[0mchoice\u001b[0m \u001b[0;34m=\u001b[0m \u001b[0minput\u001b[0m\u001b[0;34m(\u001b[0m\u001b[0;34m\"\\nDo you wish to continue : (Y/N)\"\u001b[0m\u001b[0;34m)\u001b[0m\u001b[0;34m\u001b[0m\u001b[0;34m\u001b[0m\u001b[0m\n\u001b[1;32m      5\u001b[0m \u001b[0mprint\u001b[0m\u001b[0;34m(\u001b[0m\u001b[0;34m\"\\n***Interactive mode of validation is completed***\"\u001b[0m\u001b[0;34m)\u001b[0m\u001b[0;34m\u001b[0m\u001b[0;34m\u001b[0m\u001b[0m\n",
            "\u001b[0;32m<ipython-input-6-1c5f620628bb>\u001b[0m in \u001b[0;36minteractively\u001b[0;34m()\u001b[0m\n\u001b[1;32m      1\u001b[0m \u001b[0;32mdef\u001b[0m \u001b[0minteractively\u001b[0m\u001b[0;34m(\u001b[0m\u001b[0;34m)\u001b[0m\u001b[0;34m:\u001b[0m\u001b[0;34m\u001b[0m\u001b[0;34m\u001b[0m\u001b[0m\n\u001b[0;32m----> 2\u001b[0;31m   \u001b[0memail\u001b[0m \u001b[0;34m=\u001b[0m \u001b[0minput\u001b[0m\u001b[0;34m(\u001b[0m\u001b[0;34m\" Enter email id:\"\u001b[0m\u001b[0;34m)\u001b[0m\u001b[0;34m\u001b[0m\u001b[0;34m\u001b[0m\u001b[0m\n\u001b[0m\u001b[1;32m      3\u001b[0m   \u001b[0mstatus\u001b[0m \u001b[0;34m=\u001b[0m \u001b[0mValidateEmail\u001b[0m\u001b[0;34m(\u001b[0m\u001b[0memail\u001b[0m\u001b[0;34m)\u001b[0m\u001b[0;34m\u001b[0m\u001b[0;34m\u001b[0m\u001b[0m\n\u001b[1;32m      4\u001b[0m   \u001b[0;32mif\u001b[0m \u001b[0mstatus\u001b[0m \u001b[0;34m==\u001b[0m \u001b[0;36m1\u001b[0m\u001b[0;34m:\u001b[0m\u001b[0;34m\u001b[0m\u001b[0;34m\u001b[0m\u001b[0m\n\u001b[1;32m      5\u001b[0m     \u001b[0mprint\u001b[0m\u001b[0;34m(\u001b[0m\u001b[0memail\u001b[0m\u001b[0;34m,\u001b[0m\u001b[0;34m\"is VALID\\n\"\u001b[0m\u001b[0;34m)\u001b[0m\u001b[0;34m\u001b[0m\u001b[0;34m\u001b[0m\u001b[0m\n",
            "\u001b[0;32m/usr/local/lib/python3.10/dist-packages/ipykernel/kernelbase.py\u001b[0m in \u001b[0;36mraw_input\u001b[0;34m(self, prompt)\u001b[0m\n\u001b[1;32m    849\u001b[0m                 \u001b[0;34m\"raw_input was called, but this frontend does not support input requests.\"\u001b[0m\u001b[0;34m\u001b[0m\u001b[0;34m\u001b[0m\u001b[0m\n\u001b[1;32m    850\u001b[0m             )\n\u001b[0;32m--> 851\u001b[0;31m         return self._input_request(str(prompt),\n\u001b[0m\u001b[1;32m    852\u001b[0m             \u001b[0mself\u001b[0m\u001b[0;34m.\u001b[0m\u001b[0m_parent_ident\u001b[0m\u001b[0;34m,\u001b[0m\u001b[0;34m\u001b[0m\u001b[0;34m\u001b[0m\u001b[0m\n\u001b[1;32m    853\u001b[0m             \u001b[0mself\u001b[0m\u001b[0;34m.\u001b[0m\u001b[0m_parent_header\u001b[0m\u001b[0;34m,\u001b[0m\u001b[0;34m\u001b[0m\u001b[0;34m\u001b[0m\u001b[0m\n",
            "\u001b[0;32m/usr/local/lib/python3.10/dist-packages/ipykernel/kernelbase.py\u001b[0m in \u001b[0;36m_input_request\u001b[0;34m(self, prompt, ident, parent, password)\u001b[0m\n\u001b[1;32m    893\u001b[0m             \u001b[0;32mexcept\u001b[0m \u001b[0mKeyboardInterrupt\u001b[0m\u001b[0;34m:\u001b[0m\u001b[0;34m\u001b[0m\u001b[0;34m\u001b[0m\u001b[0m\n\u001b[1;32m    894\u001b[0m                 \u001b[0;31m# re-raise KeyboardInterrupt, to truncate traceback\u001b[0m\u001b[0;34m\u001b[0m\u001b[0;34m\u001b[0m\u001b[0m\n\u001b[0;32m--> 895\u001b[0;31m                 \u001b[0;32mraise\u001b[0m \u001b[0mKeyboardInterrupt\u001b[0m\u001b[0;34m(\u001b[0m\u001b[0;34m\"Interrupted by user\"\u001b[0m\u001b[0;34m)\u001b[0m \u001b[0;32mfrom\u001b[0m \u001b[0;32mNone\u001b[0m\u001b[0;34m\u001b[0m\u001b[0;34m\u001b[0m\u001b[0m\n\u001b[0m\u001b[1;32m    896\u001b[0m             \u001b[0;32mexcept\u001b[0m \u001b[0mException\u001b[0m \u001b[0;32mas\u001b[0m \u001b[0me\u001b[0m\u001b[0;34m:\u001b[0m\u001b[0;34m\u001b[0m\u001b[0;34m\u001b[0m\u001b[0m\n\u001b[1;32m    897\u001b[0m                 \u001b[0mself\u001b[0m\u001b[0;34m.\u001b[0m\u001b[0mlog\u001b[0m\u001b[0;34m.\u001b[0m\u001b[0mwarning\u001b[0m\u001b[0;34m(\u001b[0m\u001b[0;34m\"Invalid Message:\"\u001b[0m\u001b[0;34m,\u001b[0m \u001b[0mexc_info\u001b[0m\u001b[0;34m=\u001b[0m\u001b[0;32mTrue\u001b[0m\u001b[0;34m)\u001b[0m\u001b[0;34m\u001b[0m\u001b[0;34m\u001b[0m\u001b[0m\n",
            "\u001b[0;31mKeyboardInterrupt\u001b[0m: Interrupted by user"
          ]
        }
      ]
    },
    {
      "cell_type": "code",
      "source": [
        "file_ptr = open('sriya-copy.txt','r')\n",
        "for line in file_ptr:\n",
        "  print(line)\n",
        "  status =ValidateEmail(line.strip())\n",
        "  if (status==1):\n",
        "    file_ptr.write('***VALID**--'+line)\n",
        "  else:\n",
        "    file_ptr.write('INVALID--'+line)"
      ],
      "metadata": {
        "colab": {
          "base_uri": "https://localhost:8080/",
          "height": 245
        },
        "id": "HkKcs9naeRII",
        "outputId": "10eac169-01d0-4788-f988-7250be1d62b7"
      },
      "execution_count": 15,
      "outputs": [
        {
          "output_type": "error",
          "ename": "FileNotFoundError",
          "evalue": "ignored",
          "traceback": [
            "\u001b[0;31m---------------------------------------------------------------------------\u001b[0m",
            "\u001b[0;31mFileNotFoundError\u001b[0m                         Traceback (most recent call last)",
            "\u001b[0;32m<ipython-input-15-039f24ebfe55>\u001b[0m in \u001b[0;36m<cell line: 1>\u001b[0;34m()\u001b[0m\n\u001b[0;32m----> 1\u001b[0;31m \u001b[0mfile_ptr\u001b[0m \u001b[0;34m=\u001b[0m \u001b[0mopen\u001b[0m\u001b[0;34m(\u001b[0m\u001b[0;34m'sriya-copy.txt'\u001b[0m\u001b[0;34m,\u001b[0m\u001b[0;34m'r'\u001b[0m\u001b[0;34m)\u001b[0m\u001b[0;34m\u001b[0m\u001b[0;34m\u001b[0m\u001b[0m\n\u001b[0m\u001b[1;32m      2\u001b[0m \u001b[0;32mfor\u001b[0m \u001b[0mline\u001b[0m \u001b[0;32min\u001b[0m \u001b[0mfile_ptr\u001b[0m\u001b[0;34m:\u001b[0m\u001b[0;34m\u001b[0m\u001b[0;34m\u001b[0m\u001b[0m\n\u001b[1;32m      3\u001b[0m   \u001b[0mprint\u001b[0m\u001b[0;34m(\u001b[0m\u001b[0mline\u001b[0m\u001b[0;34m)\u001b[0m\u001b[0;34m\u001b[0m\u001b[0;34m\u001b[0m\u001b[0m\n\u001b[1;32m      4\u001b[0m   \u001b[0mstatus\u001b[0m \u001b[0;34m=\u001b[0m\u001b[0mValidateEmail\u001b[0m\u001b[0;34m(\u001b[0m\u001b[0mline\u001b[0m\u001b[0;34m.\u001b[0m\u001b[0mstrip\u001b[0m\u001b[0;34m(\u001b[0m\u001b[0;34m)\u001b[0m\u001b[0;34m)\u001b[0m\u001b[0;34m\u001b[0m\u001b[0;34m\u001b[0m\u001b[0m\n\u001b[1;32m      5\u001b[0m   \u001b[0;32mif\u001b[0m \u001b[0;34m(\u001b[0m\u001b[0mstatus\u001b[0m\u001b[0;34m==\u001b[0m\u001b[0;36m1\u001b[0m\u001b[0;34m)\u001b[0m\u001b[0;34m:\u001b[0m\u001b[0;34m\u001b[0m\u001b[0;34m\u001b[0m\u001b[0m\n",
            "\u001b[0;31mFileNotFoundError\u001b[0m: [Errno 2] No such file or directory: 'sriya-copy.txt'"
          ]
        }
      ]
    }
  ]
}